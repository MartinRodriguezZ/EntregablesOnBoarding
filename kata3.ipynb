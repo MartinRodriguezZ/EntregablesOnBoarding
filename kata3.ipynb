{
 "cells": [
  {
   "cell_type": "markdown",
   "metadata": {},
   "source": [
    "## Asteroide"
   ]
  },
  {
   "cell_type": "code",
   "execution_count": 3,
   "metadata": {},
   "outputs": [
    {
     "name": "stdout",
     "output_type": "stream",
     "text": [
      "CUIDADO!\n"
     ]
    }
   ],
   "source": [
    "velocidadAsteroide = 49 #49 Km/s\n",
    "\n",
    "if velocidadAsteroide > 25:\n",
    "    print('CUIDADO!')\n",
    "else:\n",
    "    print('Todo esta OK')"
   ]
  },
  {
   "cell_type": "code",
   "execution_count": 4,
   "metadata": {},
   "outputs": [
    {
     "name": "stdout",
     "output_type": "stream",
     "text": [
      "No se ve nada inusual\n"
     ]
    }
   ],
   "source": [
    "velocidadAsteroide = 19\n",
    "\n",
    "if velocidadAsteroide > 20:\n",
    "    print('Se ve un rayo de luz!')\n",
    "elif velocidadAsteroide == 20:\n",
    "    print('Se ve un rayo de luz!')\n",
    "else:\n",
    "    print('No se ve nada inusual')"
   ]
  },
  {
   "cell_type": "code",
   "execution_count": 12,
   "metadata": {},
   "outputs": [
    {
     "name": "stdout",
     "output_type": "stream",
     "text": [
      "Hay un rayo de luz!\n"
     ]
    }
   ],
   "source": [
    "velocidadAsteroide = 50\n",
    "tamanioAsteroide = 5\n",
    "\n",
    "if tamanioAsteroide > 25 and velocidadAsteroide > 25:\n",
    "    print('Alerta!!')\n",
    "elif velocidadAsteroide > 20 or velocidadAsteroide == 20: #velocidadAsteroide >= 20  tambien asi pero para usar el or lo hice como está.\n",
    "    print('Hay un rayo de luz!')\n",
    "elif tamanioAsteroide < 25:\n",
    "    print('Se quemó el asteroide :(')\n",
    "else:\n",
    "    print('Nada interesante')"
   ]
  }
 ],
 "metadata": {
  "interpreter": {
   "hash": "6e790619725acb5cd4c5fbff70dfcae5b1f08d5e700290bdc51215244730e6d8"
  },
  "kernelspec": {
   "display_name": "Python 3.10.2 64-bit (windows store)",
   "language": "python",
   "name": "python3"
  },
  "language_info": {
   "codemirror_mode": {
    "name": "ipython",
    "version": 3
   },
   "file_extension": ".py",
   "mimetype": "text/x-python",
   "name": "python",
   "nbconvert_exporter": "python",
   "pygments_lexer": "ipython3",
   "version": "3.10.2"
  },
  "orig_nbformat": 4
 },
 "nbformat": 4,
 "nbformat_minor": 2
}
